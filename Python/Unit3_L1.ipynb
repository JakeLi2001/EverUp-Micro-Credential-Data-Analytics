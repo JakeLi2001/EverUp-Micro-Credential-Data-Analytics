{
  "nbformat": 4,
  "nbformat_minor": 0,
  "metadata": {
    "colab": {
      "name": "Unit3_L1.ipynb",
      "provenance": [],
      "collapsed_sections": [],
      "include_colab_link": true
    },
    "kernelspec": {
      "name": "python3",
      "display_name": "Python 3"
    }
  },
  "cells": [
    {
      "cell_type": "markdown",
      "metadata": {
        "id": "view-in-github",
        "colab_type": "text"
      },
      "source": [
        "<a href=\"https://colab.research.google.com/github/JakeLi2001/EverUp-Micro-Credential-Data-Analytics/blob/main/Python/Unit3_L1.ipynb\" target=\"_parent\"><img src=\"https://colab.research.google.com/assets/colab-badge.svg\" alt=\"Open In Colab\"/></a>"
      ]
    },
    {
      "cell_type": "markdown",
      "metadata": {
        "id": "Vgs8Kp4TidFQ"
      },
      "source": [
        "# Unit 3 - Advanced Python - NumPy - Assingment #1  "
      ]
    },
    {
      "cell_type": "markdown",
      "metadata": {
        "id": "_Hq7Ny79iwgD"
      },
      "source": [
        "## 1. Environment Set up"
      ]
    },
    {
      "cell_type": "code",
      "metadata": {
        "id": "MiB4JCOP5FdJ"
      },
      "source": [
        "import numpy as np"
      ],
      "execution_count": 1,
      "outputs": []
    },
    {
      "cell_type": "code",
      "metadata": {
        "id": "lotvpVpvlKsR"
      },
      "source": [
        "#Dataset from summer Olympic London, year 2012\n",
        "np_olympic_country = np.array(['GBR','China','RUS','US','KOR','JPN','GER'])\n",
        "np_olympic_country_Gold = np.array([29,38,24,46,13,7,11])\n",
        "np_olympic_country_Silver = np.array([17,28,25,28,8,14,11])\n",
        "np_olympic_country_Bronze = np.array([19,22,32,29,7,17,14])"
      ],
      "execution_count": 2,
      "outputs": []
    },
    {
      "cell_type": "markdown",
      "metadata": {
        "id": "io_27RSlizno"
      },
      "source": [
        "## 2.\tFind country with maximum gold"
      ]
    },
    {
      "cell_type": "code",
      "metadata": {
        "id": "vs8ppR-wlSKL",
        "colab": {
          "base_uri": "https://localhost:8080/"
        },
        "outputId": "771e5583-6f3b-435c-d2cc-714aef167344"
      },
      "source": [
        "print(\"Maximum number of gold: \", np.max(np_olympic_country_Gold))\n",
        "\n",
        "element = np.where(np_olympic_country_Gold == np.max(np_olympic_country_Gold))\n",
        "print(element)\n",
        "\n",
        "print(\"The country with the most gold is: \", np_olympic_country[element])"
      ],
      "execution_count": 6,
      "outputs": [
        {
          "output_type": "stream",
          "name": "stdout",
          "text": [
            "Maximum number of gold:  46\n",
            "(array([3]),)\n",
            "The country with the most gold is:  ['US']\n"
          ]
        }
      ]
    },
    {
      "cell_type": "markdown",
      "metadata": {
        "id": "DAW8m8IQjRyR"
      },
      "source": [
        "## 3.\tFind countries with more than 20 gold medals"
      ]
    },
    {
      "cell_type": "code",
      "metadata": {
        "id": "guULMEhrjYtT",
        "colab": {
          "base_uri": "https://localhost:8080/"
        },
        "outputId": "6c1086c7-7119-43f2-f17d-c0a97f2d5e83"
      },
      "source": [
        "countries = np.where(np_olympic_country_Gold > 20)\n",
        "print(countries)\n",
        "\n",
        "print(\"Countries with more than 20 gold medals are: \", np_olympic_country[countries])"
      ],
      "execution_count": 4,
      "outputs": [
        {
          "output_type": "stream",
          "name": "stdout",
          "text": [
            "(array([0, 1, 2, 3]),)\n",
            "Countries with more than 20 gold medals are:  ['GBR' 'China' 'RUS' 'US']\n"
          ]
        }
      ]
    }
  ]
}