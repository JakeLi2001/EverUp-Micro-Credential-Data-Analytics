{
  "nbformat": 4,
  "nbformat_minor": 0,
  "metadata": {
    "colab": {
      "name": "Unit2_L5.ipynb",
      "provenance": [],
      "collapsed_sections": [],
      "include_colab_link": true
    },
    "kernelspec": {
      "name": "python3",
      "display_name": "Python 3"
    }
  },
  "cells": [
    {
      "cell_type": "markdown",
      "metadata": {
        "id": "view-in-github",
        "colab_type": "text"
      },
      "source": [
        "<a href=\"https://colab.research.google.com/github/JakeLi2001/EverUp-Micro-Credential-Data-Analytics/blob/main/Python/Unit2_L5.ipynb\" target=\"_parent\"><img src=\"https://colab.research.google.com/assets/colab-badge.svg\" alt=\"Open In Colab\"/></a>"
      ]
    },
    {
      "cell_type": "markdown",
      "metadata": {
        "id": "Vgs8Kp4TidFQ"
      },
      "source": [
        "# Intrdouction to Python - Conditional Operations Assignment #4\n",
        "\n",
        "## If-elif-else Statements "
      ]
    },
    {
      "cell_type": "markdown",
      "metadata": {
        "id": "_Hq7Ny79iwgD"
      },
      "source": [
        "## 1.\tMake a list of 5 or more usernames, including an admin account.  Imagine you are writing code that will welcome people to your application on login. Loop through the list and print your greeting.\n",
        "\n",
        "a.\tIf the admin account logs in, give them a special greeting.  They’re the admin, after all!\n",
        "\n",
        "b.\tOther users can get the generic greeting\n",
        "\n"
      ]
    },
    {
      "cell_type": "code",
      "metadata": {
        "id": "lotvpVpvlKsR",
        "colab": {
          "base_uri": "https://localhost:8080/"
        },
        "outputId": "66b20bde-b65d-4ad0-e8f9-f931b8be568f"
      },
      "source": [
        "usernames = [\"admin\", \"user1\", \"user2\", \"user3\", \"user4\"]\n",
        "for x in usernames:\n",
        "  if x == \"admin\":\n",
        "    print(\"Welcome to the platform\" + \" \" + x + \", have a nice and productive day!\")\n",
        "  else:\n",
        "    print(\"Welcome to the platform, \" + x)"
      ],
      "execution_count": null,
      "outputs": [
        {
          "output_type": "stream",
          "name": "stdout",
          "text": [
            "Welcome to the platform admin, have a nice and productive day!\n",
            "Welcome to the platform, user1\n",
            "Welcome to the platform, user2\n",
            "Welcome to the platform, user3\n",
            "Welcome to the platform, user4\n"
          ]
        }
      ]
    },
    {
      "cell_type": "markdown",
      "metadata": {
        "id": "io_27RSlizno"
      },
      "source": [
        "## 2.\tStore numbers 1-10 in a list\n",
        "\n",
        "a.\tLoop through the list\n",
        "\n",
        "b.\tUse an if-elif-else chain inside your loop to print the ordinal ending for each number – for example – 1st, 2nd, 3rd … etc.\n",
        "\n"
      ]
    },
    {
      "cell_type": "code",
      "metadata": {
        "id": "Dh1o5cAylSHB",
        "colab": {
          "base_uri": "https://localhost:8080/"
        },
        "outputId": "f6e05aea-c9d7-4ea1-9e25-fce33e5566ca"
      },
      "source": [
        "numlist = list(range(1,11))\n",
        "print(numlist)"
      ],
      "execution_count": null,
      "outputs": [
        {
          "output_type": "stream",
          "name": "stdout",
          "text": [
            "[1, 2, 3, 4, 5, 6, 7, 8, 9, 10]\n"
          ]
        }
      ]
    },
    {
      "cell_type": "code",
      "metadata": {
        "id": "vs8ppR-wlSKL",
        "colab": {
          "base_uri": "https://localhost:8080/"
        },
        "outputId": "74daef5f-c625-4865-b20f-e4e742e1c3ea"
      },
      "source": [
        "for num in numlist:\n",
        "  if num == 1:\n",
        "    print(str(num) + \"st\")\n",
        "  elif num == 2:\n",
        "    print(str(num) + \"nd\")\n",
        "  elif num == 3:\n",
        "    print(str(num) + \"rd\")\n",
        "  else:\n",
        "    print(str(num) + \"th\")"
      ],
      "execution_count": null,
      "outputs": [
        {
          "output_type": "stream",
          "name": "stdout",
          "text": [
            "1st\n",
            "2nd\n",
            "3rd\n",
            "4th\n",
            "5th\n",
            "6th\n",
            "7th\n",
            "8th\n",
            "9th\n",
            "10th\n"
          ]
        }
      ]
    }
  ]
}