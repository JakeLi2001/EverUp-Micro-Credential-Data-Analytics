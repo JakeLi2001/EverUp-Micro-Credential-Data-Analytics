{
  "nbformat": 4,
  "nbformat_minor": 0,
  "metadata": {
    "colab": {
      "name": "Unit2_Mini_Project.ipynb",
      "provenance": [],
      "collapsed_sections": [],
      "include_colab_link": true
    },
    "kernelspec": {
      "name": "python3",
      "display_name": "Python 3"
    }
  },
  "cells": [
    {
      "cell_type": "markdown",
      "metadata": {
        "id": "view-in-github",
        "colab_type": "text"
      },
      "source": [
        "<a href=\"https://colab.research.google.com/github/JakeLi2001/EverUp-Micro-Credential-Data-Analytics/blob/main/Python/Unit2_Mini_Project.ipynb\" target=\"_parent\"><img src=\"https://colab.research.google.com/assets/colab-badge.svg\" alt=\"Open In Colab\"/></a>"
      ]
    },
    {
      "cell_type": "markdown",
      "metadata": {
        "id": "Vgs8Kp4TidFQ"
      },
      "source": [
        "# Intrdouction to Python - Mini Project"
      ]
    },
    {
      "cell_type": "markdown",
      "metadata": {
        "id": "_Hq7Ny79iwgD"
      },
      "source": [
        "#Python Project – Odd or Even\n",
        "\n",
        "Ask the user for a number. Depending on whether the number is even or odd, print out an appropriate message to the user. Hint: how does an even / odd number react differently when divided by 2?\n"
      ]
    },
    {
      "cell_type": "code",
      "metadata": {
        "id": "lotvpVpvlKsR",
        "colab": {
          "base_uri": "https://localhost:8080/"
        },
        "outputId": "47b322b6-f570-4fcc-9288-4830e13207ab"
      },
      "source": [
        "num = int(input(\"Please enter a number: \"))\n",
        "\n",
        "if num % 2 == 0:\n",
        "  print(\"The number you entered is an even number.\")\n",
        "elif num % 2 != 0:\n",
        "  print(\"The number you entered is an odd number.\")"
      ],
      "execution_count": null,
      "outputs": [
        {
          "output_type": "stream",
          "name": "stdout",
          "text": [
            "Please enter a number: 55\n",
            "The number you entered is an odd number.\n"
          ]
        }
      ]
    },
    {
      "cell_type": "markdown",
      "metadata": {
        "id": "io_27RSlizno"
      },
      "source": [
        "# Bonus:\n",
        "\n",
        "1.\tIf the number is a multiple of 4, print out a different message.\n",
        "\n",
        "2.\tAsk the user for two numbers: one number to check (call it num) and one number to divide by (check). If check divides evenly into num, tell that to the user. If not, print a different appropriate message.\n"
      ]
    },
    {
      "cell_type": "code",
      "metadata": {
        "id": "Dh1o5cAylSHB"
      },
      "source": [
        "# 1)\n",
        "\n",
        "x = int(input(\"Please enter a number: \"))\n",
        "\n",
        "if x % 4 == 0:\n",
        "  print(\"The number you entered is divisible by 4.\")\n",
        "else:\n",
        "  print(\"The number you entered is not divisible by 4.\")"
      ],
      "execution_count": null,
      "outputs": []
    },
    {
      "cell_type": "code",
      "metadata": {
        "id": "vs8ppR-wlSKL",
        "colab": {
          "base_uri": "https://localhost:8080/"
        },
        "outputId": "bb5b8262-5f33-4c52-e7fe-162a3803de85"
      },
      "source": [
        "# 2)\n",
        "\n",
        "num = int(input(\"Please enter a number: \"))\n",
        "check = int(input(\"What number do you want to divide \" + str(num) + \" by? \"))\n",
        "\n",
        "if num % check == 0:\n",
        "  print(str(num) + \" is divisible by \" + str(check))\n",
        "else:\n",
        "  print(str(num) + \" is not divisible by \" + str(check))"
      ],
      "execution_count": null,
      "outputs": [
        {
          "output_type": "stream",
          "name": "stdout",
          "text": [
            "Please enter a number: 66\n",
            "What number do you want to divide 66 by? 3\n",
            "66 is divisible by 3\n"
          ]
        }
      ]
    }
  ]
}