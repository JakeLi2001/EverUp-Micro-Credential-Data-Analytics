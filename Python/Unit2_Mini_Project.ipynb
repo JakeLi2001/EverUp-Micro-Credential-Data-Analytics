{
  "nbformat": 4,
  "nbformat_minor": 0,
  "metadata": {
    "colab": {
      "name": "Unit2_Mini_Project.ipynb",
      "provenance": [],
      "collapsed_sections": [],
      "include_colab_link": true
    },
    "kernelspec": {
      "name": "python3",
      "display_name": "Python 3"
    }
  },
  "cells": [
    {
      "cell_type": "markdown",
      "metadata": {
        "id": "view-in-github",
        "colab_type": "text"
      },
      "source": [
        "<a href=\"https://colab.research.google.com/github/JakeLi2001/EverUp-Micro-Credential-Data-Analytics/blob/main/Python/Unit2_Mini_Project.ipynb\" target=\"_parent\"><img src=\"https://colab.research.google.com/assets/colab-badge.svg\" alt=\"Open In Colab\"/></a>"
      ]
    },
    {
      "cell_type": "markdown",
      "metadata": {
        "id": "Vgs8Kp4TidFQ"
      },
      "source": [
        "# Intrdouction to Python - Mini Project"
      ]
    },
    {
      "cell_type": "markdown",
      "metadata": {
        "id": "_Hq7Ny79iwgD"
      },
      "source": [
        "#Python Project – Odd or Even\n",
        "\n",
        "Ask the user for a number. Depending on whether the number is even or odd, print out an appropriate message to the user. Hint: how does an even / odd number react differently when divided by 2?\n"
      ]
    },
    {
      "cell_type": "code",
      "metadata": {
        "id": "lotvpVpvlKsR",
        "colab": {
          "base_uri": "https://localhost:8080/"
        },
        "outputId": "47b322b6-f570-4fcc-9288-4830e13207ab"
      },
      "source": [
        "num = int(input(\"Please enter a number: \"))\n",
        "\n",
        "if num % 2 == 0:\n",
        "  print(\"The number you entered is an even number.\")\n",
        "elif num % 2 != 0:\n",
        "  print(\"The number you entered is an odd number.\")"
      ],
      "execution_count": null,
      "outputs": [
        {
          "output_type": "stream",
          "name": "stdout",
          "text": [
            "Please enter a number: 55\n",
            "The number you entered is an odd number.\n"
          ]
        }
      ]
    },
    {
      "cell_type": "markdown",
      "metadata": {
        "id": "io_27RSlizno"
      },
      "source": [
        "# Bonus:\n",
        "\n",
        "1.\tIf the number is a multiple of 4, print out a different message.\n",
        "\n",
        "2.\tAsk the user for two numbers: one number to check (call it num) and one number to divide by (check). If check divides evenly into num, tell that to the user. If not, print a different appropriate message.\n"
      ]
    },
    {
      "cell_type": "code",
      "source": [
        "# 1)\n",
        "\n",
        "num = int(input(\"Please enter a number: \"))\n",
        "\n",
        "if num % 4 ==0:\n",
        "  print(\"The number you entered is even and divisible by 4.\")\n",
        "elif num % 2 == 0:\n",
        "  print(\"The number you entered is an even number.\")\n",
        "elif num % 2 != 0:\n",
        "  print(\"The number you entered is an odd number.\")"
      ],
      "metadata": {
        "colab": {
          "base_uri": "https://localhost:8080/"
        },
        "id": "A4_JtUYnj8Jy",
        "outputId": "13a306ca-4e2e-4abe-abf0-1a650c9a4298"
      },
      "execution_count": 5,
      "outputs": [
        {
          "output_type": "stream",
          "name": "stdout",
          "text": [
            "Please enter a number: 12\n",
            "The number you entered is even and divisible by 4.\n"
          ]
        }
      ]
    },
    {
      "cell_type": "code",
      "source": [
        "# 2)\n",
        "def math():\n",
        "  num = int(input(\"Please enter a number: \"))\n",
        "  if num % 4 ==0:\n",
        "    print(\"The number you entered is even and divisible by 4.\")\n",
        "  elif num % 2 == 0:\n",
        "    print(\"The number you entered is an even number.\")\n",
        "  else:\n",
        "    print(\"The number you entered is an odd number.\")\n",
        "  check = int(input(\"What number do you want to divide \" + str(num) + \" by? \"))\n",
        "  if num % check == 0:\n",
        "    print(str(num) + \" is evenly divided by \" + str(check))\n",
        "  else:\n",
        "    print(str(num) + \" is not evenly divided by \" + str(check))\n",
        "\n",
        "math()"
      ],
      "metadata": {
        "colab": {
          "base_uri": "https://localhost:8080/"
        },
        "id": "MoB7Q2BYkb7P",
        "outputId": "e66e8b2d-c23d-490f-c1a5-eb70324d579a"
      },
      "execution_count": 12,
      "outputs": [
        {
          "output_type": "stream",
          "name": "stdout",
          "text": [
            "Please enter a number: 14\n",
            "The number you entered is an even number.\n",
            "What number do you want to divide 14 by? 2\n",
            "14 is evenly divided by 2\n"
          ]
        }
      ]
    }
  ]
}